{
  "cells": [
    {
      "cell_type": "markdown",
      "metadata": {
        "id": "view-in-github",
        "colab_type": "text"
      },
      "source": [
        "<a href=\"https://colab.research.google.com/github/HugoKD/HugoKD/blob/main/INF8245E_Assignment_1_skeleton.ipynb\" target=\"_parent\"><img src=\"https://colab.research.google.com/assets/colab-badge.svg\" alt=\"Open In Colab\"/></a>"
      ]
    },
    {
      "cell_type": "markdown",
      "metadata": {
        "id": "wmAqdDyLcc0n"
      },
      "source": [
        "# Assignment 1\n",
        "\n",
        "## Instructions\n",
        "This is an individual assignment. You are not allowed to discuss the problems with other students.\n",
        "\n",
        "- Part of this assignment will be autograded by Gradescope. You can use it as immediate feedback to improve your answers. You can resubmit as many times as you want. We provide some tests which you can use to check that your code will execute properly on Gradescope. These are **not** meant to check the correctness of your answers. We encourage you to write your own tests for this.\n",
        "- All your code, analysis, graphs, explanations, etc. should be done in this same notebook.\n",
        "- Please make sure to execute all the cells before you export the notebook to a PDF and submit it to Gradescope. You will not get points for the plots if they are not generated already.\n",
        "- If you have questions regarding the assignment, you can ask for clarifications in Piazza. You should use the corresponding tag for this assignment.\n",
        "\n",
        "Before starting the assignment, make sure that you have downloaded all the data and tests related for the assignment and put them in the appropriate locations. If you run the next cell, we will set this all up automatically for you in a dataset called public, which will contain both the data and tests you use.\n",
        "\n",
        "**Warning**: Throughout the assignment, you will be asked to implement certain algorithms and find optimal values. In the solution you submit, do not simply call a library function which performs the entire algorithm for you, this is forbidden, as it would obviously defeat the purpose. For example, if you were asked to implement the linear regression, do not simply call an outside package for help.\n",
        "\n",
        "**When Submitting to GradeScope**: Be sure to\n",
        "1) Submit a `.ipynb` notebook to the `Assignment 1 - Practial` section on Gradescope.\n",
        "2) Submit a `pdf` version of the notebook to the `Assignment 1 - Analysis` entry.\n",
        "\n",
        "**Note**: You can choose to submit responses in either English or French."
      ]
    },
    {
      "cell_type": "code",
      "execution_count": 1,
      "metadata": {
        "colab": {
          "base_uri": "https://localhost:8080/"
        },
        "id": "0yB1tY5qcc0p",
        "outputId": "e146e6bb-12db-4714-8391-62c8b0c21d29"
      },
      "outputs": [
        {
          "output_type": "stream",
          "name": "stdout",
          "text": [
            "\u001b[?25l     \u001b[90m━━━━━━━━━━━━━━━━━━━━━━━━━━━━━━━━━━━━━━━━\u001b[0m \u001b[32m0.0/155.6 kB\u001b[0m \u001b[31m?\u001b[0m eta \u001b[36m-:--:--\u001b[0m\r\u001b[2K     \u001b[91m━━━━━━━━━━━━━━━━━━━━━━━\u001b[0m\u001b[91m╸\u001b[0m\u001b[90m━━━━━━━━━━━━━━━━\u001b[0m \u001b[32m92.2/155.6 kB\u001b[0m \u001b[31m2.5 MB/s\u001b[0m eta \u001b[36m0:00:01\u001b[0m\r\u001b[2K     \u001b[90m━━━━━━━━━━━━━━━━━━━━━━━━━━━━━━━━━━━━━━━\u001b[0m \u001b[32m155.6/155.6 kB\u001b[0m \u001b[31m3.0 MB/s\u001b[0m eta \u001b[36m0:00:00\u001b[0m\n",
            "\u001b[2K     \u001b[90m━━━━━━━━━━━━━━━━━━━━━━━━━━━━━━━━━━━━━━\u001b[0m \u001b[32m115.3/115.3 kB\u001b[0m \u001b[31m10.6 MB/s\u001b[0m eta \u001b[36m0:00:00\u001b[0m\n",
            "\u001b[2K     \u001b[90m━━━━━━━━━━━━━━━━━━━━━━━━━━━━━━━━━━━━━━━\u001b[0m \u001b[32m104.9/104.9 kB\u001b[0m \u001b[31m9.7 MB/s\u001b[0m eta \u001b[36m0:00:00\u001b[0m\n",
            "\u001b[2K     \u001b[90m━━━━━━━━━━━━━━━━━━━━━━━━━━━━━━━━━━━━━━\u001b[0m \u001b[32m307.2/307.2 kB\u001b[0m \u001b[31m15.3 MB/s\u001b[0m eta \u001b[36m0:00:00\u001b[0m\n",
            "\u001b[2K     \u001b[90m━━━━━━━━━━━━━━━━━━━━━━━━━━━━━━━━━━━━━━━\u001b[0m \u001b[32m100.2/100.2 kB\u001b[0m \u001b[31m9.8 MB/s\u001b[0m eta \u001b[36m0:00:00\u001b[0m\n",
            "\u001b[2K     \u001b[90m━━━━━━━━━━━━━━━━━━━━━━━━━━━━━━━━━━━━━━━━\u001b[0m \u001b[32m1.6/1.6 MB\u001b[0m \u001b[31m42.7 MB/s\u001b[0m eta \u001b[36m0:00:00\u001b[0m\n",
            "\u001b[?25hCloning into 'public'...\n",
            "remote: Enumerating objects: 43, done.\u001b[K\n",
            "remote: Counting objects: 100% (43/43), done.\u001b[K\n",
            "remote: Compressing objects: 100% (33/33), done.\u001b[K\n",
            "remote: Total 43 (delta 10), reused 41 (delta 8), pack-reused 0\u001b[K\n",
            "Receiving objects: 100% (43/43), 138.78 KiB | 840.00 KiB/s, done.\n",
            "Resolving deltas: 100% (10/10), done.\n"
          ]
        }
      ],
      "source": [
        "!pip install -q otter-grader\n",
        "!git clone https://github.com/chandar-lab/INF8245e-assignments-2023.git public"
      ]
    },
    {
      "cell_type": "code",
      "execution_count": 2,
      "metadata": {
        "id": "u7A6DOR8cc0r"
      },
      "outputs": [],
      "source": [
        "import otter\n",
        "import numpy\n",
        "grader = otter.Notebook(colab=True, tests_dir='./public/a1/tests')"
      ]
    },
    {
      "cell_type": "code",
      "execution_count": 3,
      "metadata": {
        "id": "AaGUP4iqcc0r"
      },
      "outputs": [],
      "source": [
        "# DO NOT RE-SEED ANYWHERE OTHERWISE YOUR IMPLEMENTATION MAY FAIL SOME UNIT TESTS\n",
        "import numpy as np\n",
        "import matplotlib.pyplot as plt\n",
        "from typing import List, Tuple\n",
        "\n",
        "np.random.seed(8245)\n",
        "%matplotlib inline\n",
        "\n",
        "working_dir = './public/a1' # CHANGE THIS TO THE MAIN ASSIGNMENT DIRECTORY"
      ]
    },
    {
      "cell_type": "markdown",
      "metadata": {
        "id": "Ivjv-2OB1hwZ"
      },
      "source": [
        "## **Question 1: Linear Regression (30 points)**\n",
        "In this question, you will take a simple dataset and implement linear and ridge regression by solving for their analytical solutions. You will then perform a simple hyperparameter search to determine regression co-efficients that best suit the data.\n",
        "\n",
        "We'll be using the Boston Housing Dataset, which you can find out more about [here](https://www.cs.toronto.edu/~delve/data/boston/bostonDetail.html). The goal is to determine the best way to weight different features of houses to determine the price it was sold for."
      ]
    },
    {
      "cell_type": "markdown",
      "metadata": {
        "id": "tW1m54qm2O8J"
      },
      "source": [
        "The following cell is just for loading the data properly in the format you need. In this case, we load our data as a design matrix $X$ where\n",
        "$$\n",
        "X = \\begin{bmatrix} x_{11} & \\cdots & x_{1d} \\\\ \\vdots & \\ddots & \\vdots \\\\ x_{n1} & \\cdots & x_{nd} \\end{bmatrix}\n",
        "$$ where each row is an instance of the data. Meanwhile, the targets $y$ is loaded as a single column vector where the $i$-th entry corresponds to the target for the $i$-th row in $X$."
      ]
    },
    {
      "cell_type": "code",
      "execution_count": 4,
      "metadata": {
        "id": "XZwbIVgM2PT-"
      },
      "outputs": [],
      "source": [
        "def load_linear_regression_data(working_dir):\n",
        "    test_inputs = np.genfromtxt(working_dir + '/data/housing_X_test.csv', delimiter=',')\n",
        "    test_targets = np.genfromtxt(working_dir + '/data/housing_y_test.csv', delimiter=',')\n",
        "    train_inputs = np.genfromtxt(working_dir + '/data/X_train_C.csv', delimiter=',')\n",
        "    train_targets = np.genfromtxt(working_dir + '/data/Y_train_C.csv', delimiter=',')\n",
        "\n",
        "    return train_inputs.T, train_targets.reshape((train_targets.shape[0], 1)), test_inputs.T, test_targets.reshape((test_targets.shape[0], 1))\n",
        "\n",
        "X_tr, y_tr, X_te, y_te = load_linear_regression_data(working_dir)"
      ]
    },
    {
      "cell_type": "code",
      "source": [
        "print(X_tr.shape,y_tr.shape, X_te.shape, y_te.shape)"
      ],
      "metadata": {
        "colab": {
          "base_uri": "https://localhost:8080/"
        },
        "id": "4Vmswovx8nkE",
        "outputId": "54babab3-af6c-49c5-eb7b-06dbc5f2478b"
      },
      "execution_count": 115,
      "outputs": [
        {
          "output_type": "stream",
          "name": "stdout",
          "text": [
            "(200, 2) (200, 1) (100, 2) (100, 1)\n"
          ]
        }
      ]
    },
    {
      "cell_type": "code",
      "source": [
        "import os\n",
        "\n",
        "current_directory = os.getcwd()\n",
        "print(\"Current Directory:\", current_directory)\n"
      ],
      "metadata": {
        "colab": {
          "base_uri": "https://localhost:8080/"
        },
        "id": "pzWeLHhINGCf",
        "outputId": "de70a7c4-cd52-4b59-ea28-fa39c2bd1c03"
      },
      "execution_count": 5,
      "outputs": [
        {
          "output_type": "stream",
          "name": "stdout",
          "text": [
            "Current Directory: /content\n"
          ]
        }
      ]
    },
    {
      "cell_type": "code",
      "source": [
        "X_tr = np.genfromtxt(\"public/a1/data/X_train_C.csv\", delimiter=',')\n",
        "y_tr = np.genfromtxt(\"public/a1/data/Y_train_C.csv\", delimiter=',')\n"
      ],
      "metadata": {
        "id": "W49ZEJuMNdmn"
      },
      "execution_count": 6,
      "outputs": []
    },
    {
      "cell_type": "markdown",
      "metadata": {
        "id": "IWxdsFMu1tAV"
      },
      "source": [
        "### Q1a) **(10 points)**\n",
        "\n",
        "The following functions are helper functions meant to help with processing all the data and running your functions. However they will be important for the rest of your assignment so be sure to implement them correctly."
      ]
    },
    {
      "cell_type": "markdown",
      "metadata": {
        "id": "qFBmCQm7cc0s"
      },
      "source": [
        "_Type your answer here, replacing this text._"
      ]
    },
    {
      "cell_type": "code",
      "execution_count": 7,
      "metadata": {
        "id": "OIONVEB33dSz",
        "tags": []
      },
      "outputs": [],
      "source": [
        "def create_inputs_with_bias(X: np.ndarray) -> np.ndarray:\n",
        "    \"\"\"functions\n",
        "    Args:\n",
        "        X (np.ndarray): Input\n",
        "\n",
        "    Returns:\n",
        "        X_new (np.ndarray): Input with biases appended\n",
        "    \"\"\"\n",
        "    #ajouter une colonne au debut avec que des 1\n",
        "    x,y= X.shape\n",
        "    X_new = np.ones((x,y+1))\n",
        "    for i in range(x):\n",
        "      for j in range(y):\n",
        "        X_new[i,j]=X[i,j]\n",
        "    return X_new\n"
      ]
    },
    {
      "cell_type": "code",
      "execution_count": 116,
      "metadata": {
        "id": "4UvpE0IN4kl4",
        "tags": []
      },
      "outputs": [],
      "source": [
        "def rmse(y: np.ndarray, y_hat: np.ndarray) -> float:\n",
        "    \"\"\"\n",
        "    Args:\n",
        "        y (np.ndarray): True labels/values\n",
        "        y_hat (np.ndarray): Predicted labels/values\n",
        "\n",
        "    Returns:\n",
        "        float: Root Mean-Squared Error\n",
        "    \"\"\"\n",
        "    x=0\n",
        "    for i in range(y.shape[0]):\n",
        "      x+=(y[i]-y_hat[i])**2\n",
        "    x = (x)**0.5/y.shape[0]\n",
        "    return x\n"
      ]
    },
    {
      "cell_type": "markdown",
      "source": [],
      "metadata": {
        "id": "3H5F8bQON5BZ"
      }
    },
    {
      "cell_type": "code",
      "execution_count": 9,
      "metadata": {
        "id": "QDJnXWDA55uI",
        "tags": []
      },
      "outputs": [],
      "source": [
        "def predict_linear_regression(inputs: np.ndarray, weights: np.ndarray) -> np.ndarray:\n",
        "    \"\"\"\n",
        "    Args:\n",
        "        X (np.ndarray): Input\n",
        "        weights (np.ndarray): Weight vector\n",
        "\n",
        "    Returns:\n",
        "        prediced_values: np.ndarray: Predictions\n",
        "    \"\"\"\n",
        "    return np.dot(inputs, weights)\n",
        "\n",
        "    ..."
      ]
    },
    {
      "cell_type": "code",
      "execution_count": 10,
      "metadata": {
        "id": "8tW4RwAb65dM",
        "tags": []
      },
      "outputs": [],
      "source": [
        "def solve_linear_regression(X: np.ndarray, Y: np.ndarray) -> np.ndarray:\n",
        "    \"\"\"\n",
        "    Args:s\n",
        "        X (np.ndarray): Input\n",
        "        y (np.ndarray): Labels\n",
        "\n",
        "    Returns:\n",
        "        w_sol (np.ndarray): Analytical solution weight vector\n",
        "    \"\"\"\n",
        "    return np.dot(np.linalg.inv(np.dot(np.transpose(X),X)),np.dot(np.transpose(X),Y))\n",
        "\n",
        "\n",
        "    ..."
      ]
    },
    {
      "cell_type": "code",
      "execution_count": 11,
      "metadata": {
        "id": "jii57VUw9zyo",
        "tags": []
      },
      "outputs": [],
      "source": [
        "def solve_ridge_regression(X: np.ndarray, y: np.ndarray, lambda_hyperparameter: float) -> np.ndarray: #RMSE + Coefficient de regularisation\n",
        "    \"\"\"\n",
        "    Args:\n",
        "        X (np.ndarray): Input\n",
        "        y (np.ndarray): Labels\n",
        "        lambda_hyperparameter (float): Regularization coefficient\n",
        "\n",
        "    Returns:\n",
        "        w_sol (np.darray): Analytical solution weight vector\n",
        "    \"\"\"\n",
        "    In = np.eye(X.shape[0]) * lambda_hyperparameter\n",
        "    return np.dot(np.linalg.inv(np.dot(np.transpose(X),X)+In),np.dot(np.transpose(X),y)) # return la matrice de poids opti avec regu, sert au test ou au train ?\n",
        "\n"
      ]
    },
    {
      "cell_type": "code",
      "execution_count": 12,
      "metadata": {
        "deletable": false,
        "editable": false,
        "colab": {
          "base_uri": "https://localhost:8080/",
          "height": 46
        },
        "id": "bLswEiKycc0t",
        "outputId": "7faa49c0-e0a7-4258-dd48-f45732a8fd3a"
      },
      "outputs": [
        {
          "output_type": "execute_result",
          "data": {
            "text/plain": [
              "q1.1 results: All test cases passed!"
            ],
            "text/html": [
              "<p><strong><pre style='display: inline;'>q1.1</pre></strong> passed! 🚀</p>"
            ]
          },
          "metadata": {},
          "execution_count": 12
        }
      ],
      "source": [
        "grader.check(\"q1.1\")"
      ]
    },
    {
      "cell_type": "code",
      "source": [
        "X_tr.shape"
      ],
      "metadata": {
        "colab": {
          "base_uri": "https://localhost:8080/"
        },
        "id": "xknUhrCjORJ7",
        "outputId": "3e86d1af-589d-48c9-b781-569ab5588346"
      },
      "execution_count": 13,
      "outputs": [
        {
          "output_type": "execute_result",
          "data": {
            "text/plain": [
              "(50, 100)"
            ]
          },
          "metadata": {},
          "execution_count": 13
        }
      ]
    },
    {
      "cell_type": "code",
      "source": [
        "y_tr.shape"
      ],
      "metadata": {
        "colab": {
          "base_uri": "https://localhost:8080/"
        },
        "id": "OJh4GA4eOUKq",
        "outputId": "e89a4595-70ae-424c-8fae-e82d9bd8bfdd"
      },
      "execution_count": 14,
      "outputs": [
        {
          "output_type": "execute_result",
          "data": {
            "text/plain": [
              "(50,)"
            ]
          },
          "metadata": {},
          "execution_count": 14
        }
      ]
    },
    {
      "cell_type": "code",
      "source": [
        "fold_size=2\n",
        "i=0\n",
        "lignes_validation = [k for k in range(round(i*fold_size),round((i+1)*fold_size))]\n",
        "lignes_train = [i for i in range(X_tr.shape[0]) if i not in lignes_validation]\n",
        "print(lignes_train)\n",
        "print(lignes_validation)\n",
        "print(X_tr.shape)\n",
        "X_train = X_tr[lignes_train]  #doesn t work ! we have to select ligne in an other way !!!\n",
        "y_train = y_tr[lignes_train]\n"
      ],
      "metadata": {
        "colab": {
          "base_uri": "https://localhost:8080/"
        },
        "id": "ftdocWXGLwOQ",
        "outputId": "ecbf9500-511e-4d86-d521-de9ce2624ab0"
      },
      "execution_count": 15,
      "outputs": [
        {
          "output_type": "stream",
          "name": "stdout",
          "text": [
            "[2, 3, 4, 5, 6, 7, 8, 9, 10, 11, 12, 13, 14, 15, 16, 17, 18, 19, 20, 21, 22, 23, 24, 25, 26, 27, 28, 29, 30, 31, 32, 33, 34, 35, 36, 37, 38, 39, 40, 41, 42, 43, 44, 45, 46, 47, 48, 49]\n",
            "[0, 1]\n",
            "(50, 100)\n"
          ]
        }
      ]
    },
    {
      "cell_type": "markdown",
      "metadata": {
        "id": "qusFUlRb7HgO"
      },
      "source": [
        "### Q1b) **(10 points)**"
      ]
    },
    {
      "cell_type": "markdown",
      "metadata": {
        "id": "mzXfC2A_MxDd"
      },
      "source": [
        "Now that we have all of our main functions written out correctly, we would like to perform a hyperparameter search on ridge regression. In particular, we want to find the best regularization co-efficient $\\lambda$ based on the housing dataset we currently have. If you recall, ridge regression is a regularized version of linear regression where is loss is calculated as\n",
        "$$\n",
        "\\tilde{L}(X, y, w) = L(X, y, w) + \\lambda \\cdot \\|w\\|_2^2\n",
        "$$\n",
        "where $L$ is the loss for linear regression and $w$ is the current weight vector.\n",
        "\n",
        "Here, we'll perform a $k$-fold cross validation over the samples to estimate the best value of $\\lambda$ that enables best transfer from the training dataset to the testing dataset. For those who are still unfamiliar with $k$-fold CV, the idea is to duplicate the training dataset $k$ times, then for each duplicate split the dataset into a training and validation set. For each duplicate, or fold, the validation set should be different from all other folds."
      ]
    },
    {
      "cell_type": "markdown",
      "metadata": {
        "id": "uUrX4QDtPb6M"
      },
      "source": [
        "Since there are many ways to perform the splitting, we'll be doing it in a very simple manner. To avoid any random seeding issues, we'll be creating each fold's train/validation sets deterministically.\n",
        "\n",
        "First, calculate a `fold_size` by determining the best size which splits the trianing set evenly between the desired number of folds. Leave this value as a decimal as rounding will be taken care of later.\n",
        "\n",
        "Then for the $i$-th fold, simply use the `fold_size * i` to `fold_size * (i+1)` entries of the training data as your validation set. To avoid confusion, if either value is not an integer, simply round the values to the nearest one."
      ]
    },
    {
      "cell_type": "code",
      "execution_count": 16,
      "metadata": {
        "id": "VTLzWhQxHQte",
        "tags": []
      },
      "outputs": [],
      "source": [
        "def cross_validation_linear_regression(k_folds: int, hyperparameters: List[float],\n",
        "                                       X: np.ndarray, y: np.ndarray) -> Tuple[float, float, List[float]]:\n",
        "    \"\"\"\n",
        "    Args:\n",
        "        k_folds (int): Number of folds to use\n",
        "        hyperprameters ( np.ndarray): Numpy array of floats containing the hyperparameter values to search\n",
        "        X (np.ndarray): Numpy array of shape [observations, features]\n",
        "        y (np.ndarray): Numpy array of shape [observations, 1]\n",
        "\n",
        "    Returns:\n",
        "        best_hyperparam: np.float value corresponding to the best hyperparameter value\n",
        "        best_mean_squared_error: np.float value corersponding to the best RMSE value\n",
        "        mean_squared_errors: np.ndarray of size len(hyperparameters) containing the corresponding RMSE for reach hyperparameter value\n",
        "    \"\"\"\n",
        "# we have to test for each hyperparameters which ones give the best results. So with one hyperparameters we do all the folds one time, and do so for each hyperpara\n",
        "# (=lambda_opti)\n",
        "# theory is good, have to see the methods\n",
        "    best_hyperparam = 0.0\n",
        "    best_mean_squared_error = 0.0\n",
        "    mean_squared_errors = np.zeros(len(hyperparameters))\n",
        "    fold_size = X.shape[0]/k_folds\n",
        "    for j in range(len(hyperparameters)): #pour chaque hp\n",
        "      hp_value=hyperparameters[j]\n",
        "      for i in range(k_folds): #training on cherche la matrice de poids la plus optimale\n",
        "        lignes_validation = [k for k in range(round(i*fold_size),round((i+1)*fold_size))]\n",
        "        lignes_train = [i for i in range(X.shape[0]) if i not in lignes_validation]\n",
        "        X_train = X[lignes_train]  #doesn t work ! we have to select ligne in an other way\n",
        "        y_train = y[lignes_train]\n",
        "        print(y_train)\n",
        "        X_validation = X[lignes_validation]\n",
        "        y_validation = y[lignes_validation]\n",
        "        W_opti = solve_ridge_regression(X_train, y_train,hp_value) #train sur le subset train, sert a entrainer le modele, le lambda est obligatoire pour forcer le modele a ne pas devenir trop complexe\n",
        "        #calculate the RMSE on the subset test -> I need to have the predictions for each of the testing set with W_opti\n",
        "        y_hat_validation = predict_linear_regression(X_train,W_opti)\n",
        "        accuracy = rmse(y_validation,y_hat_validation) + hp_value * predict_linear_regression(np.transpose(W_opti),W_opti)\n",
        "        #sert a connaitre la precision du modele, apres l'avoir entrainé (W grace à X et lambda)\n",
        "        mean_squared_errors[j]+= (accuracy/k_folds) # calculate the mean of accuracy with the current lambda, on all the k folds\n",
        "    best_mean_squared_error = np.min(mean_squared_errors)\n",
        "    index_min= 0\n",
        "    for i in range(len(mean_squared_errors)):\n",
        "      if mean_squared_errors[i]<mean_squared_errors[index_min]:\n",
        "        index_min=i\n",
        "    best_hyperparam = hyperparameters[index_min]\n",
        "    return best_hyperparam, best_mean_squared_error, mean_squared_errors\n",
        "\n",
        "\n"
      ]
    },
    {
      "cell_type": "markdown",
      "source": [
        "cross_validation_linear_regression(\n",
        "        k_folds=2, hyperparameters=[0],\n",
        "        X=np.asarray([[1, 0], [0, 1], [1, 1], [2, 4]], dtype=np.float64),\n",
        "        y=np.asarray([0, 0, 0, 0], dtype=np.float64),\n",
        "    )"
      ],
      "metadata": {
        "id": "tgLckOKc0I0C"
      }
    },
    {
      "cell_type": "code",
      "execution_count": 17,
      "metadata": {
        "deletable": false,
        "editable": false,
        "id": "mHZzWBz7cc0t",
        "colab": {
          "base_uri": "https://localhost:8080/",
          "height": 133
        },
        "outputId": "10a11f55-d205-402e-eff1-2b0c5e3f6977"
      },
      "outputs": [
        {
          "output_type": "stream",
          "name": "stdout",
          "text": [
            "[[0.]\n",
            " [0.]]\n",
            "[[0.]\n",
            " [0.]]\n",
            "(0, 0.0, array([0.]))\n"
          ]
        },
        {
          "output_type": "execute_result",
          "data": {
            "text/plain": [
              "q1.2 results: All test cases passed!"
            ],
            "text/html": [
              "<p><strong><pre style='display: inline;'>q1.2</pre></strong> passed! ✨</p>"
            ]
          },
          "metadata": {},
          "execution_count": 17
        }
      ],
      "source": [
        "grader.check(\"q1.2\")"
      ]
    },
    {
      "cell_type": "markdown",
      "metadata": {
        "id": "MjXEBEeSOW9H"
      },
      "source": [
        "### Q1c) **(5 points)**\n",
        "Now perform a hyperparameter search on the $\\lambda$ regularization coefficient using the following values. What is the best hyperparameter value you can find based on this $k$-fold cross validation? Does it perform well on the test set as well?"
      ]
    },
    {
      "cell_type": "markdown",
      "metadata": {
        "deletable": false,
        "editable": false,
        "id": "zi_ApPbrcc0t"
      },
      "source": [
        "<!-- BEGIN QUESTION -->\n",
        "\n"
      ]
    },
    {
      "cell_type": "code",
      "execution_count": null,
      "metadata": {
        "id": "ZZfvR05AH7WR",
        "tags": [],
        "colab": {
          "base_uri": "https://localhost:8080/",
          "height": 529
        },
        "outputId": "d5742bb7-04fa-4e1c-b55a-378ed221f8d7"
      },
      "outputs": [
        {
          "output_type": "stream",
          "name": "stdout",
          "text": [
            "[-11.44367004 -31.27065846 -11.42137117  12.25016451 -42.84671126\n",
            "  25.3150762   -0.63331271 -24.19178457  10.20741319 -28.42747468\n",
            "  16.16170048  23.25315464  -4.16125482   1.94571272  13.04768124\n",
            "  -5.84944011 -16.14287593  -4.51373302 -25.20085471 -39.05413122\n",
            " -22.39843757  71.47714234   5.68634644  49.74082014  35.28053953\n",
            " -47.34248394  16.71034229  61.73726067  28.20663301  15.18462008\n",
            "  -9.81968996 -39.17186938  57.18072599 -15.76002294  -9.20750268\n",
            "  -8.4795537  -16.97793581  17.53786819 -51.55384985  -4.7379209\n",
            "  16.15184783   3.59009511   0.37503011 -33.73571557 -49.7189461 ]\n"
          ]
        },
        {
          "output_type": "error",
          "ename": "ValueError",
          "evalue": "ignored",
          "traceback": [
            "\u001b[0;31m---------------------------------------------------------------------------\u001b[0m",
            "\u001b[0;31mValueError\u001b[0m                                Traceback (most recent call last)",
            "\u001b[0;32m<ipython-input-101-0be7a51d216c>\u001b[0m in \u001b[0;36m<cell line: 8>\u001b[0;34m()\u001b[0m\n\u001b[1;32m      6\u001b[0m \u001b[0mk_folds\u001b[0m \u001b[0;34m=\u001b[0m \u001b[0;36m10\u001b[0m\u001b[0;34m\u001b[0m\u001b[0;34m\u001b[0m\u001b[0m\n\u001b[1;32m      7\u001b[0m \u001b[0;34m\u001b[0m\u001b[0m\n\u001b[0;32m----> 8\u001b[0;31m \u001b[0mbest_lambda\u001b[0m\u001b[0;34m,\u001b[0m\u001b[0mbest_mean_squared_error\u001b[0m\u001b[0;34m,\u001b[0m\u001b[0mmean_squared_error\u001b[0m \u001b[0;34m=\u001b[0m\u001b[0mcross_validation_linear_regression\u001b[0m\u001b[0;34m(\u001b[0m\u001b[0mk_folds\u001b[0m\u001b[0;34m,\u001b[0m\u001b[0mhyperparams\u001b[0m\u001b[0;34m,\u001b[0m \u001b[0mX_tr\u001b[0m\u001b[0;34m,\u001b[0m\u001b[0my_tr\u001b[0m\u001b[0;34m)\u001b[0m\u001b[0;34m\u001b[0m\u001b[0;34m\u001b[0m\u001b[0m\n\u001b[0m\u001b[1;32m      9\u001b[0m \u001b[0;34m\u001b[0m\u001b[0m\n\u001b[1;32m     10\u001b[0m \u001b[0;34m\u001b[0m\u001b[0m\n",
            "\u001b[0;32m<ipython-input-99-d4b00c706cd5>\u001b[0m in \u001b[0;36mcross_validation_linear_regression\u001b[0;34m(k_folds, hyperparameters, X, y)\u001b[0m\n\u001b[1;32m     29\u001b[0m         \u001b[0mX_validation\u001b[0m \u001b[0;34m=\u001b[0m \u001b[0mX\u001b[0m\u001b[0;34m[\u001b[0m\u001b[0mlignes_validation\u001b[0m\u001b[0;34m]\u001b[0m\u001b[0;34m\u001b[0m\u001b[0;34m\u001b[0m\u001b[0m\n\u001b[1;32m     30\u001b[0m         \u001b[0my_validation\u001b[0m \u001b[0;34m=\u001b[0m \u001b[0my\u001b[0m\u001b[0;34m[\u001b[0m\u001b[0mlignes_validation\u001b[0m\u001b[0;34m]\u001b[0m\u001b[0;34m\u001b[0m\u001b[0;34m\u001b[0m\u001b[0m\n\u001b[0;32m---> 31\u001b[0;31m         \u001b[0mW_opti\u001b[0m \u001b[0;34m=\u001b[0m \u001b[0msolve_ridge_regression\u001b[0m\u001b[0;34m(\u001b[0m\u001b[0mX_train\u001b[0m\u001b[0;34m,\u001b[0m \u001b[0my_train\u001b[0m\u001b[0;34m,\u001b[0m\u001b[0mhp_value\u001b[0m\u001b[0;34m)\u001b[0m \u001b[0;31m#train sur le subset train, sert a entrainer le modele, le lambda est obligatoire pour forcer le modele a ne pas devenir trop complexe\u001b[0m\u001b[0;34m\u001b[0m\u001b[0;34m\u001b[0m\u001b[0m\n\u001b[0m\u001b[1;32m     32\u001b[0m         \u001b[0;31m#calculate the RMSE on the subset test -> I need to have the predictions for each of the testing set with W_opti\u001b[0m\u001b[0;34m\u001b[0m\u001b[0;34m\u001b[0m\u001b[0m\n\u001b[1;32m     33\u001b[0m         \u001b[0my_hat_validation\u001b[0m \u001b[0;34m=\u001b[0m \u001b[0mpredict_linear_regression\u001b[0m\u001b[0;34m(\u001b[0m\u001b[0mX_train\u001b[0m\u001b[0;34m,\u001b[0m\u001b[0mW_opti\u001b[0m\u001b[0;34m)\u001b[0m\u001b[0;34m\u001b[0m\u001b[0;34m\u001b[0m\u001b[0m\n",
            "\u001b[0;32m<ipython-input-19-0c519319b251>\u001b[0m in \u001b[0;36msolve_ridge_regression\u001b[0;34m(X, y, lambda_hyperparameter)\u001b[0m\n\u001b[1;32m     10\u001b[0m     \"\"\"\n\u001b[1;32m     11\u001b[0m     \u001b[0mIn\u001b[0m \u001b[0;34m=\u001b[0m \u001b[0mnp\u001b[0m\u001b[0;34m.\u001b[0m\u001b[0meye\u001b[0m\u001b[0;34m(\u001b[0m\u001b[0mX\u001b[0m\u001b[0;34m.\u001b[0m\u001b[0mshape\u001b[0m\u001b[0;34m[\u001b[0m\u001b[0;36m0\u001b[0m\u001b[0;34m]\u001b[0m\u001b[0;34m)\u001b[0m \u001b[0;34m*\u001b[0m \u001b[0mlambda_hyperparameter\u001b[0m\u001b[0;34m\u001b[0m\u001b[0;34m\u001b[0m\u001b[0m\n\u001b[0;32m---> 12\u001b[0;31m     \u001b[0;32mreturn\u001b[0m \u001b[0mnp\u001b[0m\u001b[0;34m.\u001b[0m\u001b[0mdot\u001b[0m\u001b[0;34m(\u001b[0m\u001b[0mnp\u001b[0m\u001b[0;34m.\u001b[0m\u001b[0mlinalg\u001b[0m\u001b[0;34m.\u001b[0m\u001b[0minv\u001b[0m\u001b[0;34m(\u001b[0m\u001b[0mnp\u001b[0m\u001b[0;34m.\u001b[0m\u001b[0mdot\u001b[0m\u001b[0;34m(\u001b[0m\u001b[0mnp\u001b[0m\u001b[0;34m.\u001b[0m\u001b[0mtranspose\u001b[0m\u001b[0;34m(\u001b[0m\u001b[0mX\u001b[0m\u001b[0;34m)\u001b[0m\u001b[0;34m,\u001b[0m\u001b[0mX\u001b[0m\u001b[0;34m)\u001b[0m\u001b[0;34m+\u001b[0m\u001b[0mIn\u001b[0m\u001b[0;34m)\u001b[0m\u001b[0;34m,\u001b[0m\u001b[0mnp\u001b[0m\u001b[0;34m.\u001b[0m\u001b[0mdot\u001b[0m\u001b[0;34m(\u001b[0m\u001b[0mnp\u001b[0m\u001b[0;34m.\u001b[0m\u001b[0mtranspose\u001b[0m\u001b[0;34m(\u001b[0m\u001b[0mX\u001b[0m\u001b[0;34m)\u001b[0m\u001b[0;34m,\u001b[0m\u001b[0my\u001b[0m\u001b[0;34m)\u001b[0m\u001b[0;34m)\u001b[0m \u001b[0;31m# return la matrice de poids opti avec regu, sert au test ou au train ?\u001b[0m\u001b[0;34m\u001b[0m\u001b[0;34m\u001b[0m\u001b[0m\n\u001b[0m\u001b[1;32m     13\u001b[0m \u001b[0;34m\u001b[0m\u001b[0m\n",
            "\u001b[0;31mValueError\u001b[0m: operands could not be broadcast together with shapes (100,100) (45,45) "
          ]
        }
      ],
      "source": [
        "# lambda values to be evaluated by cross validation\n",
        "\n",
        "hyperparams = [0, 0.1, 0.2, 0.3, 0.4, 0.5, 0.6, 0.7, 0.8, 0.9, 1.0, 1.1, 1.2,\n",
        "               1.3, 1.4, 1.5, 1.6, 1.7, 1.8, 1.9, 2.0, 2.1, 2.2, 2.3, 2.4,\n",
        "               2.5, 2.6, 2.7, 2.8, 2.9, 3.0]\n",
        "k_folds = 10\n",
        "\n",
        "best_lambda,best_mean_squared_error,mean_squared_error =cross_validation_linear_regression(k_folds,hyperparams, X_tr,y_tr)\n",
        "\n",
        "\n",
        "print('best lambda: ' + str (best_lambda))\n",
        "print('best cross validation mean squared error: ' + str(best_mean_squared_error))\n",
        "print('test mean squared error: ' + str(mean_squared_error))"
      ]
    },
    {
      "cell_type": "code",
      "source": [
        "print(y_tr.shape)"
      ],
      "metadata": {
        "colab": {
          "base_uri": "https://localhost:8080/"
        },
        "id": "betunFHs_RWF",
        "outputId": "b2aa1a99-7851-4beb-eaf8-dea1e708b24d"
      },
      "execution_count": null,
      "outputs": [
        {
          "output_type": "stream",
          "name": "stdout",
          "text": [
            "(306, 1)\n"
          ]
        }
      ]
    },
    {
      "cell_type": "markdown",
      "metadata": {
        "id": "1GcmS6HEcc0u"
      },
      "source": [
        "\n",
        "\n",
        "```\n",
        "# Ce texte est au format code\n",
        "```\n",
        "\n",
        "_Type your answer here, replacing this text._"
      ]
    },
    {
      "cell_type": "markdown",
      "metadata": {
        "deletable": false,
        "editable": false,
        "id": "v7xAXnhPcnP6"
      },
      "source": [
        "<!-- END QUESTION -->\n",
        "\n",
        "### Q1d) **(5 points)**"
      ]
    },
    {
      "cell_type": "markdown",
      "metadata": {
        "id": "vEg49OVTOoIJ"
      },
      "source": [
        "*Plot* both the validation and test mean squared errors as a function of the $\\lambda$ hyperparameter for ridge regression.\n",
        "\n",
        "Is the hyperparameter you found from the cross validation the best choice? Are large values of $\\lambda$ problematic? Why? What about small values?"
      ]
    },
    {
      "cell_type": "markdown",
      "metadata": {
        "deletable": false,
        "editable": false,
        "id": "fy_8ahw9cc0u"
      },
      "source": [
        "<!-- BEGIN QUESTION -->\n",
        "\n"
      ]
    },
    {
      "cell_type": "code",
      "execution_count": null,
      "metadata": {
        "id": "v5-MqGTjKwfA",
        "tags": [],
        "colab": {
          "base_uri": "https://localhost:8080/",
          "height": 245
        },
        "outputId": "5b370937-4dc4-4a6b-d10b-629e77791390"
      },
      "outputs": [
        {
          "output_type": "error",
          "ename": "NameError",
          "evalue": "ignored",
          "traceback": [
            "\u001b[0;31m---------------------------------------------------------------------------\u001b[0m",
            "\u001b[0;31mNameError\u001b[0m                                 Traceback (most recent call last)",
            "\u001b[0;32m<ipython-input-19-9d1272e2f547>\u001b[0m in \u001b[0;36m<cell line: 8>\u001b[0;34m()\u001b[0m\n\u001b[1;32m      6\u001b[0m \u001b[0;34m\u001b[0m\u001b[0m\n\u001b[1;32m      7\u001b[0m \u001b[0;31m# plot results\u001b[0m\u001b[0;34m\u001b[0m\u001b[0;34m\u001b[0m\u001b[0m\n\u001b[0;32m----> 8\u001b[0;31m \u001b[0mplot_linear_regression_mean_squared_errors\u001b[0m\u001b[0;34m(\u001b[0m\u001b[0mmean_squared_errors\u001b[0m\u001b[0;34m,\u001b[0m\u001b[0mhyperparams\u001b[0m\u001b[0;34m)\u001b[0m\u001b[0;34m\u001b[0m\u001b[0;34m\u001b[0m\u001b[0m\n\u001b[0m\u001b[1;32m      9\u001b[0m \u001b[0;34m\u001b[0m\u001b[0m\n\u001b[1;32m     10\u001b[0m \u001b[0mtest_mse\u001b[0m \u001b[0;34m=\u001b[0m \u001b[0mnp\u001b[0m\u001b[0;34m.\u001b[0m\u001b[0mzeros\u001b[0m\u001b[0;34m(\u001b[0m\u001b[0mlen\u001b[0m\u001b[0;34m(\u001b[0m\u001b[0mhyperparams\u001b[0m\u001b[0;34m)\u001b[0m\u001b[0;34m)\u001b[0m\u001b[0;34m\u001b[0m\u001b[0;34m\u001b[0m\u001b[0m\n",
            "\u001b[0;31mNameError\u001b[0m: name 'mean_squared_errors' is not defined"
          ]
        }
      ],
      "source": [
        "def plot_linear_regression_mean_squared_errors(mean_squared_errors,hyperparams):\n",
        "    plt.plot(hyperparams,mean_squared_errors)\n",
        "    plt.ylabel('mean squared error')\n",
        "    plt.xlabel('lambda')\n",
        "    plt.show()\n",
        "\n",
        "# plot results\n",
        "plot_linear_regression_mean_squared_errors(mean_squared_errors,hyperparams)\n",
        "\n",
        "test_mse = np.zeros(len(hyperparams))\n",
        "\n",
        "\"\"\"\n",
        "Write code to find the test MSE for all hyperparameters\n",
        "\"\"\"\n",
        "...\n",
        "\n",
        "plot_linear_regression_mean_squared_errors(test_mse, hyperparams)"
      ]
    },
    {
      "cell_type": "markdown",
      "metadata": {
        "id": "diLL94zAcc0u"
      },
      "source": [
        "_Type your answer here, replacing this text._"
      ]
    },
    {
      "cell_type": "markdown",
      "metadata": {
        "deletable": false,
        "editable": false,
        "id": "K9IDJH7eQPLu"
      },
      "source": [
        "<!-- END QUESTION -->\n",
        "\n",
        "## **Question 2: Gradient Descent (55 points)**\n",
        "At this point, we should know how to solve regression tasks using an analytical solution. However, not all types of methods have something nice to calculate like linear or ridge regression. In this section, we'll learn to use _gradient descent_, as you've seen in class, to solve regression tasks."
      ]
    },
    {
      "cell_type": "markdown",
      "metadata": {
        "id": "INSBOBxAQWzm"
      },
      "source": [
        "We'll now use a synthetically generated dataset for this part of the assignment."
      ]
    },
    {
      "cell_type": "code",
      "execution_count": 18,
      "metadata": {
        "id": "UlCfFaM6cc0u"
      },
      "outputs": [],
      "source": [
        "def load_gd_data(working_dir):\n",
        "    test_inputs = np.genfromtxt(working_dir + '/data/test_inputs.csv', delimiter=',')\n",
        "    test_targets = np.genfromtxt(working_dir + '/data/test_targets.csv', delimiter=',')\n",
        "    train_inputs = np.genfromtxt(working_dir + '/data/train_inputs.csv', delimiter=',')\n",
        "    train_targets = np.genfromtxt(working_dir + '/data/train_targets.csv', delimiter=',')\n",
        "\n",
        "    return train_inputs, train_targets.reshape((train_targets.shape[0], 1)), test_inputs, test_targets.reshape((test_targets.shape[0], 1))\n",
        "\n",
        "X_tr, y_tr, X_te, y_te = load_gd_data(working_dir)"
      ]
    },
    {
      "cell_type": "markdown",
      "metadata": {
        "id": "2xOJC2aEQwVR"
      },
      "source": [
        "### Q2a) **(15 points)**\n",
        "This part of the question will deal with implementing functions that can calculate the gradients that are used during regression.\n",
        "\n",
        "Along with linear and ridge regression, we introduce LASSO regression, which is similar to ridge regression but instead of using a penalty term of $\\|w\\|_2^2$, we use a penalty of $\\|w\\|_1$. Since you might not be familiar with this notation, we denote the function $f(\\cdot) = \\| \\cdot \\|_1$ as the L1-norm function, where\n",
        "$$\n",
        "\\| w \\|_1 = |w_1| + |w_2| + \\dots + |w_d|\n",
        "$$\n",
        "\n",
        "Provide a function that computes the gradient for all three regression types."
      ]
    },
    {
      "cell_type": "code",
      "execution_count": 87,
      "metadata": {
        "id": "RgOxrP9aQ4Qu",
        "tags": []
      },
      "outputs": [],
      "source": [
        "def linear_regression_gradient(X: np.ndarray, y: np.ndarray, w: np.ndarray, **kwargs) -> np.ndarray:\n",
        "    \"\"\"Compute the gradient of w with respect to the loss\n",
        "\n",
        "    Args:\n",
        "        X (np.ndarray): Numpy array of shape [observations, features]\n",
        "        y (np.ndarray): Numpy array of shape [observations, 1]\n",
        "        w (np.ndarray): Numpy array of shape [features, 1], where the last value is w_0 and all other values represent w_1\n",
        "\n",
        "    Returns:\n",
        "        np.ndarray: Gradient of w with respect to the loss, as a numpy array of the same shape as w.\n",
        "    \"\"\"\n",
        "    #Loss is MSE s(ŷ-y)²\n",
        "    y_hat = np.dot(X,w)\n",
        "    loss = rmse(y,y_hat)\n",
        "    dloss = np.dot(np.transpose(X),y_hat-y)*(1/y.shape[0])\n",
        "    return dloss\n",
        "    ..."
      ]
    },
    {
      "cell_type": "code",
      "source": [
        "X=np.array([[1, 0, 0], [0, 1, 0], [0, 0, 1]])\n",
        "y=np.array([0, 1, 0])\n",
        "w=np.array([9, 1, 0])\n",
        "linear_regression_gradient(X,y,w)"
      ],
      "metadata": {
        "colab": {
          "base_uri": "https://localhost:8080/"
        },
        "id": "Om6FtafLglqD",
        "outputId": "b09335ed-c479-4b3d-bdf0-6a379f24a888"
      },
      "execution_count": 92,
      "outputs": [
        {
          "output_type": "execute_result",
          "data": {
            "text/plain": [
              "array([3., 0., 0.])"
            ]
          },
          "metadata": {},
          "execution_count": 92
        }
      ]
    },
    {
      "cell_type": "code",
      "execution_count": 94,
      "metadata": {
        "id": "jiLGhi_aQeAO",
        "tags": []
      },
      "outputs": [],
      "source": [
        "def ridge_regression_gradient(X: np.ndarray, y: np.ndarray, w: np.ndarray, hyperparameter: float, **kwargs) -> np.ndarray:\n",
        "    \"\"\"Compute the gradient of w with respect to the loss\n",
        "\n",
        "    Args:\n",
        "        X (np.ndarray): Numpy array of shape [observations, features]\n",
        "        y (np.ndarray): Numpy array of shape [observations, 1]\n",
        "        w (np.ndarray): Numpy array of shape [features, 1], where the last value is w_0 and all other values represent w_1\n",
        "        hyperparameter (float): Lambda used in L2 regularizer\n",
        "\n",
        "    Returns:\n",
        "        np.ndarray: Gradient of w with respect to the loss, as a numpy array of the same shape as w.\n",
        "    \"\"\"\n",
        "    norme = predict_linear_regression(w,np.transpose(w))**2\n",
        "    y_hat = np.dot(X,w)\n",
        "    dloss = np.dot(np.transpose(X),y_hat-y)*(1/y.shape[0]) + 2*hyperparameter*w\n",
        "    return dloss\n",
        "\n",
        "    ..."
      ]
    },
    {
      "cell_type": "code",
      "execution_count": 107,
      "metadata": {
        "id": "TBV4LLV7OuAA",
        "tags": []
      },
      "outputs": [],
      "source": [
        "def lasso_regression_gradient(X: np.ndarray, y: np.ndarray, w: np.ndarray, hyperparameter: float, **kwargs) -> np.ndarray:\n",
        "    \"\"\"Compute the gradient of w with respect to the loss\n",
        "\n",
        "    Args:\n",
        "        X (np.ndarray): Numpy array of shape [observations, features]\n",
        "        y (np.ndarray): Numpy array of shape [observations, 1]\n",
        "        w (np.ndarray): Numpy array of shape [features, 1], where the last value is w_0 and all other values represent w_1\n",
        "        hyperparameter (float): Lambda used in L2 regularizer\n",
        "\n",
        "    Returns:\n",
        "        np.ndarray: Gradient of w with respect to the loss, as a numpy array of the same shape as w.\n",
        "    \"\"\"\n",
        "    norme = predict_linear_regression(w,np.transpose(w))**2\n",
        "    y_hat = np.dot(X,w)\n",
        "    lasso_matrix = np.zeros(w.shape[0])\n",
        "    for i in range(len(lasso_matrix)):\n",
        "      if w[i]<0:\n",
        "        lasso_matrix[i]=1\n",
        "      elif w[i]==0:\n",
        "        lasso_matrix[i]=0\n",
        "      else:\n",
        "        lasso_matrix[i]=-1\n",
        "    dloss = np.dot(np.transpose(X),y_hat-y)*(1/y.shape[0]) + lasso_matrix\n",
        "    return dloss\n",
        "\n",
        "    ..."
      ]
    },
    {
      "cell_type": "code",
      "execution_count": 108,
      "metadata": {
        "deletable": false,
        "editable": false,
        "id": "r0qAHwhzcc0u",
        "colab": {
          "base_uri": "https://localhost:8080/",
          "height": 46
        },
        "outputId": "ae506c7c-3fd6-4542-8900-ea40ea149b83"
      },
      "outputs": [
        {
          "output_type": "execute_result",
          "data": {
            "text/plain": [
              "q2.1 results: All test cases passed!"
            ],
            "text/html": [
              "<p><strong><pre style='display: inline;'>q2.1</pre></strong> passed! 💯</p>"
            ]
          },
          "metadata": {},
          "execution_count": 108
        }
      ],
      "source": [
        "grader.check(\"q2.1\")"
      ]
    },
    {
      "cell_type": "markdown",
      "metadata": {
        "id": "F-5QCSFQRDLa"
      },
      "source": [
        "### Q2b) **(15 points)**\n",
        "\n",
        "Now write a function for solving a given regression task using gradient descent instead of the analytical solution. In this case, the function will take in a parameter `reg_type` to determine the type of regression we're using, a `hyperparameter` in case we are doing regularization, a `learning_rate` parameter which sets the size of the steps we make in the gradient directions and `num_epochs` which defines how many gradient descent steps we wish to perform.\n",
        "\n",
        "Throughout the process, you should keep track of the training and testing losses (use your functions implemented in the prior question)."
      ]
    },
    {
      "cell_type": "code",
      "execution_count": null,
      "metadata": {
        "id": "9Vm5ancYRGyK",
        "tags": []
      },
      "outputs": [],
      "source": [
        "def regression_gradient_descent(X_train: np.ndarray, y_train: np.ndarray,\n",
        "                                X_test: np.ndarray, y_test: np.ndarray,\n",
        "                                w_0: np.ndarray, hyperparameter: float,\n",
        "                                learning_rate: float, num_epochs: int, reg_type: str = 'linear') -> Tuple[List[float], List[float], np.ndarray]:\n",
        "    \"\"\" Runs gradient descent to optimize the parameters w.\n",
        "\n",
        "    Args:\n",
        "        y_train (np.ndarray): Numpy array of shape [observations, 1]\n",
        "        X_train (np.ndarray): Numpy array of shape [observations, features]\n",
        "        X_test (np.ndarray): Numpy array of shape [observations, features]\n",
        "        y_test (np.ndarray): Numpy array of shape [observations, 1]\n",
        "        w_0 (np.ndarray): Numpy array of shape [features, 1]\n",
        "        hyperparameter (float): Lambda used in L2 regularizer\n",
        "        learning_rate (float): Value to multiply our gradient with before updating our parameters.\n",
        "        num_steps (int): Number of gradient descent steps to perform.\n",
        "        type (str): The type of regression to use ['linear', 'ridge', 'lasso']\n",
        "\n",
        "    Returns:\n",
        "        train_loss (np.ndarray): The train RMSE loss without L2 regularizer, for each step.\n",
        "        val_loss (np.ndarray): The validation RMSE loss without L2 regularizer, for each step.\n",
        "        optimized_w (np.ndarray): The optimized w parameters.\n",
        "    \"\"\"\n",
        "\n",
        "    valid = {'linear', 'ridge', 'lasso'}\n",
        "    if reg_type not in valid:\n",
        "        raise ValueError(\"Invalid regression type\")\n",
        "\n",
        "    train_losses = np.zeros((num_epochs,), dtype=np.float32)\n",
        "    test_losses = np.zeros((num_epochs,), dtype=np.float32)\n",
        "    w_sol = np.copy(w_0)\n",
        "\n",
        "\n",
        "    ...\n",
        "\n",
        "    return (train_losses, test_losses, w_sol)"
      ]
    },
    {
      "cell_type": "code",
      "execution_count": null,
      "metadata": {
        "deletable": false,
        "editable": false,
        "id": "aQauWCJQcc0v"
      },
      "outputs": [],
      "source": [
        "grader.check(\"q2.2\")"
      ]
    },
    {
      "cell_type": "markdown",
      "metadata": {
        "id": "-W5fdgvpS9cl"
      },
      "source": [
        "### Q2c) **(5 points)**\n",
        "\n",
        "Now run the above function for both linear and ridge regression. Initialize the initial weight vector using `np.random.normal`."
      ]
    },
    {
      "cell_type": "markdown",
      "metadata": {
        "deletable": false,
        "editable": false,
        "id": "Z2lCoFxcb2Fo"
      },
      "source": [
        "<!-- BEGIN QUESTION -->\n",
        "\n",
        "**Your Answer Here**"
      ]
    },
    {
      "cell_type": "markdown",
      "metadata": {
        "deletable": false,
        "editable": false,
        "id": "rYx2Tbwycc0v"
      },
      "source": [
        "Write code to find the solution weights for each type of regression. After training each, plot the training and test losses for each regression type to compare learning."
      ]
    },
    {
      "cell_type": "code",
      "execution_count": null,
      "metadata": {
        "id": "xDKouH97dauj",
        "tags": []
      },
      "outputs": [],
      "source": [
        "num_epochs = 250\n",
        "hyperparameter = 0.15\n",
        "learning_rate = 0.01\n",
        "\n",
        "# add bias at the end of each data point\n",
        "train_inputs = create_inputs_with_bias(X_tr)\n",
        "test_inputs = create_inputs_with_bias(X_te)\n",
        "\n",
        "w_0 = np.random.normal(size=(train_inputs.shape[1], 1))\n",
        "\n",
        "\"\"\"\n",
        "Write code here to find the solution for each method.\n",
        "\"\"\"\n",
        "\n",
        "..."
      ]
    },
    {
      "cell_type": "code",
      "execution_count": null,
      "metadata": {
        "tags": [],
        "id": "YPqZcn1kcc0w"
      },
      "outputs": [],
      "source": [
        "plt.plot(train_losses, label='Linear Regression')\n",
        "plt.plot(train_losses_ridge, label='Ridge Regression')\n",
        "plt.plot(train_losses_lasso, label='Lasso Regression')\n",
        "plt.ylabel('mean squared error')\n",
        "plt.xlabel('Epoch')\n",
        "plt.title('Training Losses per Epoch')\n",
        "plt.legend(loc = 'upper right')\n",
        "plt.show()"
      ]
    },
    {
      "cell_type": "code",
      "execution_count": null,
      "metadata": {
        "tags": [],
        "id": "_EJA470ecc0w"
      },
      "outputs": [],
      "source": [
        "plt.plot(test_losses, label='Linear Regression')\n",
        "plt.plot(test_losses_ridge, label='Ridge Regression')\n",
        "plt.plot(test_losses_lasso, label='Lasso Regression')\n",
        "plt.ylabel('mean squared error')\n",
        "plt.xlabel('Epoch')\n",
        "plt.title('Test Losses per Epoch')\n",
        "plt.legend(loc = 'upper right')\n",
        "plt.show()"
      ]
    },
    {
      "cell_type": "markdown",
      "metadata": {
        "deletable": false,
        "editable": false,
        "id": "QBocNKHlcc0w"
      },
      "source": [
        "<!-- END QUESTION -->\n",
        "\n",
        "### Q2d) **(5 points)**"
      ]
    },
    {
      "cell_type": "markdown",
      "metadata": {
        "deletable": false,
        "editable": false,
        "id": "AUjDOR2vcc0w"
      },
      "source": [
        "<!-- BEGIN QUESTION -->\n",
        "\n",
        "In the previous examples, we perform what we call full-batch gradient descent. However, this isn't always realistic, as sometimes there is too much data for this to be feasible on modern computers. In these cases, a more feasible option be to perform batch gradient descent, which is a scenario where we have to take a subset of the whole dataset at each gradient update to get an estimate of the direction of the true gradient.\n",
        "\n",
        "There is a simple way in which one can use batches to exhibit the exact behaviour as full-batch gradient descent. In less than 100 words, describe it."
      ]
    },
    {
      "cell_type": "markdown",
      "metadata": {
        "id": "CAhQEoi6cc0w"
      },
      "source": [
        "_Type your answer here, replacing this text._"
      ]
    },
    {
      "cell_type": "markdown",
      "metadata": {
        "deletable": false,
        "editable": false,
        "id": "6h8E4CcTSLiE"
      },
      "source": [
        "<!-- END QUESTION -->\n",
        "\n",
        "### Q2e) **(5 points)**\n",
        "For the following question, we'll change up the data to a new synthetic dataset that was generated by us. We again load the data in the format where each row of $X$ constitutes an example."
      ]
    },
    {
      "cell_type": "code",
      "execution_count": null,
      "metadata": {
        "id": "wb6lyWf2eorr"
      },
      "outputs": [],
      "source": [
        "def load_comp_data(working_dir):\n",
        "    test_inputs = np.genfromtxt(working_dir + '/data/X_test_C.csv', delimiter=',')\n",
        "    test_targets = np.genfromtxt(working_dir + '/data/Y_test_C.csv', delimiter=',')\n",
        "    train_inputs = np.genfromtxt(working_dir + '/data/X_train_C.csv', delimiter=',')\n",
        "    train_targets = np.genfromtxt(working_dir + '/data/Y_train_C.csv', delimiter=',')\n",
        "\n",
        "    return train_inputs, train_targets.reshape((train_targets.shape[0], 1)), test_inputs, test_targets.reshape((test_targets.shape[0], 1))\n",
        "\n",
        "X_train, y_train, X_test, y_test = load_comp_data(working_dir)"
      ]
    },
    {
      "cell_type": "markdown",
      "metadata": {
        "deletable": false,
        "editable": false,
        "id": "QSESql5jcc0w"
      },
      "source": [
        "<!-- BEGIN QUESTION -->\n",
        "\n",
        "Using a $\\lambda$ (regularization hyperparameter) of 1 for the regularization coefficient, plot the weight distribution for both ridge and Lasso regression.\n",
        "\n",
        "What do you notice about the weights and their values? What about the regularization term do you think is causing this and why?"
      ]
    },
    {
      "cell_type": "code",
      "execution_count": null,
      "metadata": {
        "id": "CVgik-Z3SrkS",
        "tags": []
      },
      "outputs": [],
      "source": [
        "\"\"\"\n",
        "Write code to create the data and then run regression on the two.\n",
        "\"\"\"\n",
        "\n",
        "train_inputs = create_inputs_with_bias(X_train)\n",
        "test_inputs = create_inputs_with_bias(X_test)\n",
        "\n",
        "np.random.seed(8245)\n",
        "w_0 = np.random.normal(size=(train_inputs.shape[1], 1))\n",
        "\n",
        "...\n",
        "\n",
        "data = [w_sol_ridge.flatten(), w_sol_lasso.flatten()]\n",
        "labels = ['ridge10', 'lasso10']\n",
        "plt.figure(figsize = (10, 8))\n",
        "plt.hist(data, label=labels)\n",
        "\n",
        "plt.grid(axis='y', alpha=0.75)\n",
        "plt.legend(loc = 'upper left')\n",
        "plt.title('Histogram of Model Parameter Values')\n",
        "plt.ylabel('Occurrences')\n",
        "plt.xlabel('Parameter Value')\n",
        "plt.show()\n",
        "\n",
        "data = [w_sol_ridge.flatten(), w_sol_lasso.flatten()]\n",
        "labels = ['ridge10', 'lasso10']\n",
        "\n",
        "bins = np.linspace(-1, 1, 20)\n",
        "plt.figure(figsize = (10, 8))\n",
        "plt.hist(data, bins = bins, label=labels)\n",
        "\n",
        "plt.grid(axis='y', alpha=0.75)\n",
        "plt.legend(loc = 'upper left')\n",
        "plt.title('Histogram of Model Parameter Values')\n",
        "plt.ylabel('Occurrences')\n",
        "plt.xlabel('Parameter Value')\n",
        "plt.show()"
      ]
    },
    {
      "cell_type": "markdown",
      "metadata": {
        "id": "g_hTjl9Fcc0w"
      },
      "source": [
        "_Type your answer here, replacing this text._"
      ]
    },
    {
      "cell_type": "markdown",
      "metadata": {
        "deletable": false,
        "editable": false,
        "id": "ktSFcX7CWy_i"
      },
      "source": [
        "<!-- END QUESTION -->\n",
        "\n",
        "### Q2f) **(5 points)**\n",
        "\n",
        "Provide an intuitive manner to understand why this happens mathematically?"
      ]
    },
    {
      "cell_type": "markdown",
      "metadata": {
        "id": "kfhW7-qecc0x"
      },
      "source": [
        "_Type your answer here, replacing this text._"
      ]
    },
    {
      "cell_type": "markdown",
      "metadata": {
        "deletable": false,
        "editable": false,
        "id": "Np9q8H-Xcc0x"
      },
      "source": [
        "<!-- END QUESTION -->\n",
        "\n",
        "### Q2g) **(5 points)**\n",
        "\n",
        "In Q2d), you derived an algorithm to calculate the full-batch gradient update using only subsets of the data.\n",
        "\n",
        "Consider the case where you perform a gradient update at every batch. In this case, the direction of the gradient update is only an estimate of the true gradient direction. There is a signficant problem we may face if we were to try using this in our above implementation, in particular our learning rate. Can you think of what it is?"
      ]
    },
    {
      "cell_type": "markdown",
      "metadata": {
        "id": "vFBIwefvcc0x"
      },
      "source": [
        "_Type your answer here, replacing this text._"
      ]
    },
    {
      "cell_type": "markdown",
      "metadata": {
        "deletable": false,
        "editable": false,
        "id": "ubol1wDScc0x"
      },
      "source": [
        "<!-- END QUESTION -->\n",
        "\n"
      ]
    }
  ],
  "metadata": {
    "colab": {
      "provenance": [],
      "include_colab_link": true
    },
    "kernelspec": {
      "display_name": "Python 3 (ipykernel)",
      "language": "python",
      "name": "python3"
    },
    "language_info": {
      "codemirror_mode": {
        "name": "ipython",
        "version": 3
      },
      "file_extension": ".py",
      "mimetype": "text/x-python",
      "name": "python",
      "nbconvert_exporter": "python",
      "pygments_lexer": "ipython3",
      "version": "3.10.12"
    }
  },
  "nbformat": 4,
  "nbformat_minor": 0
}